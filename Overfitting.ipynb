{
  "nbformat": 4,
  "nbformat_minor": 0,
  "metadata": {
    "colab": {
      "name": "Overfitting.ipynb",
      "provenance": []
    },
    "kernelspec": {
      "name": "python3",
      "display_name": "Python 3"
    }
  },
  "cells": [
    {
      "cell_type": "code",
      "metadata": {
        "id": "j1PRGmNmZ8pN"
      },
      "source": [
        "import pandas as pd\n",
        "import numpy as np\n",
        "import matplotlib.pyplot as plt\n",
        "import seaborn as sns\n",
        "%matplotlib inline "
      ],
      "execution_count": 1,
      "outputs": []
    },
    {
      "cell_type": "code",
      "metadata": {
        "colab": {
          "resources": {
            "http://localhost:8080/nbextensions/google.colab/files.js": {
              "data": "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",
              "ok": true,
              "headers": [
                [
                  "content-type",
                  "application/javascript"
                ]
              ],
              "status": 200,
              "status_text": ""
            }
          },
          "base_uri": "https://localhost:8080/",
          "height": 72
        },
        "id": "0sdBFyhQq_PI",
        "outputId": "91efe07b-d4ac-45d2-cee1-4ce421f840fc"
      },
      "source": [
        "from google.colab import files\n",
        "uploaded = files.upload()"
      ],
      "execution_count": 2,
      "outputs": [
        {
          "output_type": "display_data",
          "data": {
            "text/html": [
              "\n",
              "     <input type=\"file\" id=\"files-8676b05b-f050-4ea8-b86c-c1e65dd69f6e\" name=\"files[]\" multiple disabled\n",
              "        style=\"border:none\" />\n",
              "     <output id=\"result-8676b05b-f050-4ea8-b86c-c1e65dd69f6e\">\n",
              "      Upload widget is only available when the cell has been executed in the\n",
              "      current browser session. Please rerun this cell to enable.\n",
              "      </output>\n",
              "      <script src=\"/nbextensions/google.colab/files.js\"></script> "
            ],
            "text/plain": [
              "<IPython.core.display.HTML object>"
            ]
          },
          "metadata": {
            "tags": []
          }
        },
        {
          "output_type": "stream",
          "text": [
            "Saving cancer_classification.csv to cancer_classification.csv\n"
          ],
          "name": "stdout"
        }
      ]
    },
    {
      "cell_type": "code",
      "metadata": {
        "id": "aOD9sBNyrLU0"
      },
      "source": [
        "import io\n",
        "df = pd.read_csv(io.BytesIO(uploaded['cancer_classification.csv']))"
      ],
      "execution_count": 3,
      "outputs": []
    },
    {
      "cell_type": "code",
      "metadata": {
        "colab": {
          "base_uri": "https://localhost:8080/",
          "height": 258
        },
        "id": "wiHE9rVUrn3R",
        "outputId": "df62de65-cead-4c4d-89bc-18f82fd90df8"
      },
      "source": [
        "df.head()"
      ],
      "execution_count": 4,
      "outputs": [
        {
          "output_type": "execute_result",
          "data": {
            "text/html": [
              "<div>\n",
              "<style scoped>\n",
              "    .dataframe tbody tr th:only-of-type {\n",
              "        vertical-align: middle;\n",
              "    }\n",
              "\n",
              "    .dataframe tbody tr th {\n",
              "        vertical-align: top;\n",
              "    }\n",
              "\n",
              "    .dataframe thead th {\n",
              "        text-align: right;\n",
              "    }\n",
              "</style>\n",
              "<table border=\"1\" class=\"dataframe\">\n",
              "  <thead>\n",
              "    <tr style=\"text-align: right;\">\n",
              "      <th></th>\n",
              "      <th>mean radius</th>\n",
              "      <th>mean texture</th>\n",
              "      <th>mean perimeter</th>\n",
              "      <th>mean area</th>\n",
              "      <th>mean smoothness</th>\n",
              "      <th>mean compactness</th>\n",
              "      <th>mean concavity</th>\n",
              "      <th>mean concave points</th>\n",
              "      <th>mean symmetry</th>\n",
              "      <th>mean fractal dimension</th>\n",
              "      <th>radius error</th>\n",
              "      <th>texture error</th>\n",
              "      <th>perimeter error</th>\n",
              "      <th>area error</th>\n",
              "      <th>smoothness error</th>\n",
              "      <th>compactness error</th>\n",
              "      <th>concavity error</th>\n",
              "      <th>concave points error</th>\n",
              "      <th>symmetry error</th>\n",
              "      <th>fractal dimension error</th>\n",
              "      <th>worst radius</th>\n",
              "      <th>worst texture</th>\n",
              "      <th>worst perimeter</th>\n",
              "      <th>worst area</th>\n",
              "      <th>worst smoothness</th>\n",
              "      <th>worst compactness</th>\n",
              "      <th>worst concavity</th>\n",
              "      <th>worst concave points</th>\n",
              "      <th>worst symmetry</th>\n",
              "      <th>worst fractal dimension</th>\n",
              "      <th>benign_0__mal_1</th>\n",
              "    </tr>\n",
              "  </thead>\n",
              "  <tbody>\n",
              "    <tr>\n",
              "      <th>0</th>\n",
              "      <td>17.99</td>\n",
              "      <td>10.38</td>\n",
              "      <td>122.80</td>\n",
              "      <td>1001.0</td>\n",
              "      <td>0.11840</td>\n",
              "      <td>0.27760</td>\n",
              "      <td>0.3001</td>\n",
              "      <td>0.14710</td>\n",
              "      <td>0.2419</td>\n",
              "      <td>0.07871</td>\n",
              "      <td>1.0950</td>\n",
              "      <td>0.9053</td>\n",
              "      <td>8.589</td>\n",
              "      <td>153.40</td>\n",
              "      <td>0.006399</td>\n",
              "      <td>0.04904</td>\n",
              "      <td>0.05373</td>\n",
              "      <td>0.01587</td>\n",
              "      <td>0.03003</td>\n",
              "      <td>0.006193</td>\n",
              "      <td>25.38</td>\n",
              "      <td>17.33</td>\n",
              "      <td>184.60</td>\n",
              "      <td>2019.0</td>\n",
              "      <td>0.1622</td>\n",
              "      <td>0.6656</td>\n",
              "      <td>0.7119</td>\n",
              "      <td>0.2654</td>\n",
              "      <td>0.4601</td>\n",
              "      <td>0.11890</td>\n",
              "      <td>0</td>\n",
              "    </tr>\n",
              "    <tr>\n",
              "      <th>1</th>\n",
              "      <td>20.57</td>\n",
              "      <td>17.77</td>\n",
              "      <td>132.90</td>\n",
              "      <td>1326.0</td>\n",
              "      <td>0.08474</td>\n",
              "      <td>0.07864</td>\n",
              "      <td>0.0869</td>\n",
              "      <td>0.07017</td>\n",
              "      <td>0.1812</td>\n",
              "      <td>0.05667</td>\n",
              "      <td>0.5435</td>\n",
              "      <td>0.7339</td>\n",
              "      <td>3.398</td>\n",
              "      <td>74.08</td>\n",
              "      <td>0.005225</td>\n",
              "      <td>0.01308</td>\n",
              "      <td>0.01860</td>\n",
              "      <td>0.01340</td>\n",
              "      <td>0.01389</td>\n",
              "      <td>0.003532</td>\n",
              "      <td>24.99</td>\n",
              "      <td>23.41</td>\n",
              "      <td>158.80</td>\n",
              "      <td>1956.0</td>\n",
              "      <td>0.1238</td>\n",
              "      <td>0.1866</td>\n",
              "      <td>0.2416</td>\n",
              "      <td>0.1860</td>\n",
              "      <td>0.2750</td>\n",
              "      <td>0.08902</td>\n",
              "      <td>0</td>\n",
              "    </tr>\n",
              "    <tr>\n",
              "      <th>2</th>\n",
              "      <td>19.69</td>\n",
              "      <td>21.25</td>\n",
              "      <td>130.00</td>\n",
              "      <td>1203.0</td>\n",
              "      <td>0.10960</td>\n",
              "      <td>0.15990</td>\n",
              "      <td>0.1974</td>\n",
              "      <td>0.12790</td>\n",
              "      <td>0.2069</td>\n",
              "      <td>0.05999</td>\n",
              "      <td>0.7456</td>\n",
              "      <td>0.7869</td>\n",
              "      <td>4.585</td>\n",
              "      <td>94.03</td>\n",
              "      <td>0.006150</td>\n",
              "      <td>0.04006</td>\n",
              "      <td>0.03832</td>\n",
              "      <td>0.02058</td>\n",
              "      <td>0.02250</td>\n",
              "      <td>0.004571</td>\n",
              "      <td>23.57</td>\n",
              "      <td>25.53</td>\n",
              "      <td>152.50</td>\n",
              "      <td>1709.0</td>\n",
              "      <td>0.1444</td>\n",
              "      <td>0.4245</td>\n",
              "      <td>0.4504</td>\n",
              "      <td>0.2430</td>\n",
              "      <td>0.3613</td>\n",
              "      <td>0.08758</td>\n",
              "      <td>0</td>\n",
              "    </tr>\n",
              "    <tr>\n",
              "      <th>3</th>\n",
              "      <td>11.42</td>\n",
              "      <td>20.38</td>\n",
              "      <td>77.58</td>\n",
              "      <td>386.1</td>\n",
              "      <td>0.14250</td>\n",
              "      <td>0.28390</td>\n",
              "      <td>0.2414</td>\n",
              "      <td>0.10520</td>\n",
              "      <td>0.2597</td>\n",
              "      <td>0.09744</td>\n",
              "      <td>0.4956</td>\n",
              "      <td>1.1560</td>\n",
              "      <td>3.445</td>\n",
              "      <td>27.23</td>\n",
              "      <td>0.009110</td>\n",
              "      <td>0.07458</td>\n",
              "      <td>0.05661</td>\n",
              "      <td>0.01867</td>\n",
              "      <td>0.05963</td>\n",
              "      <td>0.009208</td>\n",
              "      <td>14.91</td>\n",
              "      <td>26.50</td>\n",
              "      <td>98.87</td>\n",
              "      <td>567.7</td>\n",
              "      <td>0.2098</td>\n",
              "      <td>0.8663</td>\n",
              "      <td>0.6869</td>\n",
              "      <td>0.2575</td>\n",
              "      <td>0.6638</td>\n",
              "      <td>0.17300</td>\n",
              "      <td>0</td>\n",
              "    </tr>\n",
              "    <tr>\n",
              "      <th>4</th>\n",
              "      <td>20.29</td>\n",
              "      <td>14.34</td>\n",
              "      <td>135.10</td>\n",
              "      <td>1297.0</td>\n",
              "      <td>0.10030</td>\n",
              "      <td>0.13280</td>\n",
              "      <td>0.1980</td>\n",
              "      <td>0.10430</td>\n",
              "      <td>0.1809</td>\n",
              "      <td>0.05883</td>\n",
              "      <td>0.7572</td>\n",
              "      <td>0.7813</td>\n",
              "      <td>5.438</td>\n",
              "      <td>94.44</td>\n",
              "      <td>0.011490</td>\n",
              "      <td>0.02461</td>\n",
              "      <td>0.05688</td>\n",
              "      <td>0.01885</td>\n",
              "      <td>0.01756</td>\n",
              "      <td>0.005115</td>\n",
              "      <td>22.54</td>\n",
              "      <td>16.67</td>\n",
              "      <td>152.20</td>\n",
              "      <td>1575.0</td>\n",
              "      <td>0.1374</td>\n",
              "      <td>0.2050</td>\n",
              "      <td>0.4000</td>\n",
              "      <td>0.1625</td>\n",
              "      <td>0.2364</td>\n",
              "      <td>0.07678</td>\n",
              "      <td>0</td>\n",
              "    </tr>\n",
              "  </tbody>\n",
              "</table>\n",
              "</div>"
            ],
            "text/plain": [
              "   mean radius  mean texture  ...  worst fractal dimension  benign_0__mal_1\n",
              "0        17.99         10.38  ...                  0.11890                0\n",
              "1        20.57         17.77  ...                  0.08902                0\n",
              "2        19.69         21.25  ...                  0.08758                0\n",
              "3        11.42         20.38  ...                  0.17300                0\n",
              "4        20.29         14.34  ...                  0.07678                0\n",
              "\n",
              "[5 rows x 31 columns]"
            ]
          },
          "metadata": {
            "tags": []
          },
          "execution_count": 4
        }
      ]
    },
    {
      "cell_type": "code",
      "metadata": {
        "colab": {
          "base_uri": "https://localhost:8080/"
        },
        "id": "pzCiEpzcrrOn",
        "outputId": "c9a9f19e-c7e6-43a3-d35f-215382391a67"
      },
      "source": [
        "df.info()"
      ],
      "execution_count": 5,
      "outputs": [
        {
          "output_type": "stream",
          "text": [
            "<class 'pandas.core.frame.DataFrame'>\n",
            "RangeIndex: 569 entries, 0 to 568\n",
            "Data columns (total 31 columns):\n",
            " #   Column                   Non-Null Count  Dtype  \n",
            "---  ------                   --------------  -----  \n",
            " 0   mean radius              569 non-null    float64\n",
            " 1   mean texture             569 non-null    float64\n",
            " 2   mean perimeter           569 non-null    float64\n",
            " 3   mean area                569 non-null    float64\n",
            " 4   mean smoothness          569 non-null    float64\n",
            " 5   mean compactness         569 non-null    float64\n",
            " 6   mean concavity           569 non-null    float64\n",
            " 7   mean concave points      569 non-null    float64\n",
            " 8   mean symmetry            569 non-null    float64\n",
            " 9   mean fractal dimension   569 non-null    float64\n",
            " 10  radius error             569 non-null    float64\n",
            " 11  texture error            569 non-null    float64\n",
            " 12  perimeter error          569 non-null    float64\n",
            " 13  area error               569 non-null    float64\n",
            " 14  smoothness error         569 non-null    float64\n",
            " 15  compactness error        569 non-null    float64\n",
            " 16  concavity error          569 non-null    float64\n",
            " 17  concave points error     569 non-null    float64\n",
            " 18  symmetry error           569 non-null    float64\n",
            " 19  fractal dimension error  569 non-null    float64\n",
            " 20  worst radius             569 non-null    float64\n",
            " 21  worst texture            569 non-null    float64\n",
            " 22  worst perimeter          569 non-null    float64\n",
            " 23  worst area               569 non-null    float64\n",
            " 24  worst smoothness         569 non-null    float64\n",
            " 25  worst compactness        569 non-null    float64\n",
            " 26  worst concavity          569 non-null    float64\n",
            " 27  worst concave points     569 non-null    float64\n",
            " 28  worst symmetry           569 non-null    float64\n",
            " 29  worst fractal dimension  569 non-null    float64\n",
            " 30  benign_0__mal_1          569 non-null    int64  \n",
            "dtypes: float64(30), int64(1)\n",
            "memory usage: 137.9 KB\n"
          ],
          "name": "stdout"
        }
      ]
    },
    {
      "cell_type": "code",
      "metadata": {
        "colab": {
          "base_uri": "https://localhost:8080/",
          "height": 1000
        },
        "id": "LcvFrx3Lrw-J",
        "outputId": "cef94b66-852f-49df-de2d-e92317b3f373"
      },
      "source": [
        "df.describe().transpose()"
      ],
      "execution_count": 6,
      "outputs": [
        {
          "output_type": "execute_result",
          "data": {
            "text/html": [
              "<div>\n",
              "<style scoped>\n",
              "    .dataframe tbody tr th:only-of-type {\n",
              "        vertical-align: middle;\n",
              "    }\n",
              "\n",
              "    .dataframe tbody tr th {\n",
              "        vertical-align: top;\n",
              "    }\n",
              "\n",
              "    .dataframe thead th {\n",
              "        text-align: right;\n",
              "    }\n",
              "</style>\n",
              "<table border=\"1\" class=\"dataframe\">\n",
              "  <thead>\n",
              "    <tr style=\"text-align: right;\">\n",
              "      <th></th>\n",
              "      <th>count</th>\n",
              "      <th>mean</th>\n",
              "      <th>std</th>\n",
              "      <th>min</th>\n",
              "      <th>25%</th>\n",
              "      <th>50%</th>\n",
              "      <th>75%</th>\n",
              "      <th>max</th>\n",
              "    </tr>\n",
              "  </thead>\n",
              "  <tbody>\n",
              "    <tr>\n",
              "      <th>mean radius</th>\n",
              "      <td>569.0</td>\n",
              "      <td>14.127292</td>\n",
              "      <td>3.524049</td>\n",
              "      <td>6.981000</td>\n",
              "      <td>11.700000</td>\n",
              "      <td>13.370000</td>\n",
              "      <td>15.780000</td>\n",
              "      <td>28.11000</td>\n",
              "    </tr>\n",
              "    <tr>\n",
              "      <th>mean texture</th>\n",
              "      <td>569.0</td>\n",
              "      <td>19.289649</td>\n",
              "      <td>4.301036</td>\n",
              "      <td>9.710000</td>\n",
              "      <td>16.170000</td>\n",
              "      <td>18.840000</td>\n",
              "      <td>21.800000</td>\n",
              "      <td>39.28000</td>\n",
              "    </tr>\n",
              "    <tr>\n",
              "      <th>mean perimeter</th>\n",
              "      <td>569.0</td>\n",
              "      <td>91.969033</td>\n",
              "      <td>24.298981</td>\n",
              "      <td>43.790000</td>\n",
              "      <td>75.170000</td>\n",
              "      <td>86.240000</td>\n",
              "      <td>104.100000</td>\n",
              "      <td>188.50000</td>\n",
              "    </tr>\n",
              "    <tr>\n",
              "      <th>mean area</th>\n",
              "      <td>569.0</td>\n",
              "      <td>654.889104</td>\n",
              "      <td>351.914129</td>\n",
              "      <td>143.500000</td>\n",
              "      <td>420.300000</td>\n",
              "      <td>551.100000</td>\n",
              "      <td>782.700000</td>\n",
              "      <td>2501.00000</td>\n",
              "    </tr>\n",
              "    <tr>\n",
              "      <th>mean smoothness</th>\n",
              "      <td>569.0</td>\n",
              "      <td>0.096360</td>\n",
              "      <td>0.014064</td>\n",
              "      <td>0.052630</td>\n",
              "      <td>0.086370</td>\n",
              "      <td>0.095870</td>\n",
              "      <td>0.105300</td>\n",
              "      <td>0.16340</td>\n",
              "    </tr>\n",
              "    <tr>\n",
              "      <th>mean compactness</th>\n",
              "      <td>569.0</td>\n",
              "      <td>0.104341</td>\n",
              "      <td>0.052813</td>\n",
              "      <td>0.019380</td>\n",
              "      <td>0.064920</td>\n",
              "      <td>0.092630</td>\n",
              "      <td>0.130400</td>\n",
              "      <td>0.34540</td>\n",
              "    </tr>\n",
              "    <tr>\n",
              "      <th>mean concavity</th>\n",
              "      <td>569.0</td>\n",
              "      <td>0.088799</td>\n",
              "      <td>0.079720</td>\n",
              "      <td>0.000000</td>\n",
              "      <td>0.029560</td>\n",
              "      <td>0.061540</td>\n",
              "      <td>0.130700</td>\n",
              "      <td>0.42680</td>\n",
              "    </tr>\n",
              "    <tr>\n",
              "      <th>mean concave points</th>\n",
              "      <td>569.0</td>\n",
              "      <td>0.048919</td>\n",
              "      <td>0.038803</td>\n",
              "      <td>0.000000</td>\n",
              "      <td>0.020310</td>\n",
              "      <td>0.033500</td>\n",
              "      <td>0.074000</td>\n",
              "      <td>0.20120</td>\n",
              "    </tr>\n",
              "    <tr>\n",
              "      <th>mean symmetry</th>\n",
              "      <td>569.0</td>\n",
              "      <td>0.181162</td>\n",
              "      <td>0.027414</td>\n",
              "      <td>0.106000</td>\n",
              "      <td>0.161900</td>\n",
              "      <td>0.179200</td>\n",
              "      <td>0.195700</td>\n",
              "      <td>0.30400</td>\n",
              "    </tr>\n",
              "    <tr>\n",
              "      <th>mean fractal dimension</th>\n",
              "      <td>569.0</td>\n",
              "      <td>0.062798</td>\n",
              "      <td>0.007060</td>\n",
              "      <td>0.049960</td>\n",
              "      <td>0.057700</td>\n",
              "      <td>0.061540</td>\n",
              "      <td>0.066120</td>\n",
              "      <td>0.09744</td>\n",
              "    </tr>\n",
              "    <tr>\n",
              "      <th>radius error</th>\n",
              "      <td>569.0</td>\n",
              "      <td>0.405172</td>\n",
              "      <td>0.277313</td>\n",
              "      <td>0.111500</td>\n",
              "      <td>0.232400</td>\n",
              "      <td>0.324200</td>\n",
              "      <td>0.478900</td>\n",
              "      <td>2.87300</td>\n",
              "    </tr>\n",
              "    <tr>\n",
              "      <th>texture error</th>\n",
              "      <td>569.0</td>\n",
              "      <td>1.216853</td>\n",
              "      <td>0.551648</td>\n",
              "      <td>0.360200</td>\n",
              "      <td>0.833900</td>\n",
              "      <td>1.108000</td>\n",
              "      <td>1.474000</td>\n",
              "      <td>4.88500</td>\n",
              "    </tr>\n",
              "    <tr>\n",
              "      <th>perimeter error</th>\n",
              "      <td>569.0</td>\n",
              "      <td>2.866059</td>\n",
              "      <td>2.021855</td>\n",
              "      <td>0.757000</td>\n",
              "      <td>1.606000</td>\n",
              "      <td>2.287000</td>\n",
              "      <td>3.357000</td>\n",
              "      <td>21.98000</td>\n",
              "    </tr>\n",
              "    <tr>\n",
              "      <th>area error</th>\n",
              "      <td>569.0</td>\n",
              "      <td>40.337079</td>\n",
              "      <td>45.491006</td>\n",
              "      <td>6.802000</td>\n",
              "      <td>17.850000</td>\n",
              "      <td>24.530000</td>\n",
              "      <td>45.190000</td>\n",
              "      <td>542.20000</td>\n",
              "    </tr>\n",
              "    <tr>\n",
              "      <th>smoothness error</th>\n",
              "      <td>569.0</td>\n",
              "      <td>0.007041</td>\n",
              "      <td>0.003003</td>\n",
              "      <td>0.001713</td>\n",
              "      <td>0.005169</td>\n",
              "      <td>0.006380</td>\n",
              "      <td>0.008146</td>\n",
              "      <td>0.03113</td>\n",
              "    </tr>\n",
              "    <tr>\n",
              "      <th>compactness error</th>\n",
              "      <td>569.0</td>\n",
              "      <td>0.025478</td>\n",
              "      <td>0.017908</td>\n",
              "      <td>0.002252</td>\n",
              "      <td>0.013080</td>\n",
              "      <td>0.020450</td>\n",
              "      <td>0.032450</td>\n",
              "      <td>0.13540</td>\n",
              "    </tr>\n",
              "    <tr>\n",
              "      <th>concavity error</th>\n",
              "      <td>569.0</td>\n",
              "      <td>0.031894</td>\n",
              "      <td>0.030186</td>\n",
              "      <td>0.000000</td>\n",
              "      <td>0.015090</td>\n",
              "      <td>0.025890</td>\n",
              "      <td>0.042050</td>\n",
              "      <td>0.39600</td>\n",
              "    </tr>\n",
              "    <tr>\n",
              "      <th>concave points error</th>\n",
              "      <td>569.0</td>\n",
              "      <td>0.011796</td>\n",
              "      <td>0.006170</td>\n",
              "      <td>0.000000</td>\n",
              "      <td>0.007638</td>\n",
              "      <td>0.010930</td>\n",
              "      <td>0.014710</td>\n",
              "      <td>0.05279</td>\n",
              "    </tr>\n",
              "    <tr>\n",
              "      <th>symmetry error</th>\n",
              "      <td>569.0</td>\n",
              "      <td>0.020542</td>\n",
              "      <td>0.008266</td>\n",
              "      <td>0.007882</td>\n",
              "      <td>0.015160</td>\n",
              "      <td>0.018730</td>\n",
              "      <td>0.023480</td>\n",
              "      <td>0.07895</td>\n",
              "    </tr>\n",
              "    <tr>\n",
              "      <th>fractal dimension error</th>\n",
              "      <td>569.0</td>\n",
              "      <td>0.003795</td>\n",
              "      <td>0.002646</td>\n",
              "      <td>0.000895</td>\n",
              "      <td>0.002248</td>\n",
              "      <td>0.003187</td>\n",
              "      <td>0.004558</td>\n",
              "      <td>0.02984</td>\n",
              "    </tr>\n",
              "    <tr>\n",
              "      <th>worst radius</th>\n",
              "      <td>569.0</td>\n",
              "      <td>16.269190</td>\n",
              "      <td>4.833242</td>\n",
              "      <td>7.930000</td>\n",
              "      <td>13.010000</td>\n",
              "      <td>14.970000</td>\n",
              "      <td>18.790000</td>\n",
              "      <td>36.04000</td>\n",
              "    </tr>\n",
              "    <tr>\n",
              "      <th>worst texture</th>\n",
              "      <td>569.0</td>\n",
              "      <td>25.677223</td>\n",
              "      <td>6.146258</td>\n",
              "      <td>12.020000</td>\n",
              "      <td>21.080000</td>\n",
              "      <td>25.410000</td>\n",
              "      <td>29.720000</td>\n",
              "      <td>49.54000</td>\n",
              "    </tr>\n",
              "    <tr>\n",
              "      <th>worst perimeter</th>\n",
              "      <td>569.0</td>\n",
              "      <td>107.261213</td>\n",
              "      <td>33.602542</td>\n",
              "      <td>50.410000</td>\n",
              "      <td>84.110000</td>\n",
              "      <td>97.660000</td>\n",
              "      <td>125.400000</td>\n",
              "      <td>251.20000</td>\n",
              "    </tr>\n",
              "    <tr>\n",
              "      <th>worst area</th>\n",
              "      <td>569.0</td>\n",
              "      <td>880.583128</td>\n",
              "      <td>569.356993</td>\n",
              "      <td>185.200000</td>\n",
              "      <td>515.300000</td>\n",
              "      <td>686.500000</td>\n",
              "      <td>1084.000000</td>\n",
              "      <td>4254.00000</td>\n",
              "    </tr>\n",
              "    <tr>\n",
              "      <th>worst smoothness</th>\n",
              "      <td>569.0</td>\n",
              "      <td>0.132369</td>\n",
              "      <td>0.022832</td>\n",
              "      <td>0.071170</td>\n",
              "      <td>0.116600</td>\n",
              "      <td>0.131300</td>\n",
              "      <td>0.146000</td>\n",
              "      <td>0.22260</td>\n",
              "    </tr>\n",
              "    <tr>\n",
              "      <th>worst compactness</th>\n",
              "      <td>569.0</td>\n",
              "      <td>0.254265</td>\n",
              "      <td>0.157336</td>\n",
              "      <td>0.027290</td>\n",
              "      <td>0.147200</td>\n",
              "      <td>0.211900</td>\n",
              "      <td>0.339100</td>\n",
              "      <td>1.05800</td>\n",
              "    </tr>\n",
              "    <tr>\n",
              "      <th>worst concavity</th>\n",
              "      <td>569.0</td>\n",
              "      <td>0.272188</td>\n",
              "      <td>0.208624</td>\n",
              "      <td>0.000000</td>\n",
              "      <td>0.114500</td>\n",
              "      <td>0.226700</td>\n",
              "      <td>0.382900</td>\n",
              "      <td>1.25200</td>\n",
              "    </tr>\n",
              "    <tr>\n",
              "      <th>worst concave points</th>\n",
              "      <td>569.0</td>\n",
              "      <td>0.114606</td>\n",
              "      <td>0.065732</td>\n",
              "      <td>0.000000</td>\n",
              "      <td>0.064930</td>\n",
              "      <td>0.099930</td>\n",
              "      <td>0.161400</td>\n",
              "      <td>0.29100</td>\n",
              "    </tr>\n",
              "    <tr>\n",
              "      <th>worst symmetry</th>\n",
              "      <td>569.0</td>\n",
              "      <td>0.290076</td>\n",
              "      <td>0.061867</td>\n",
              "      <td>0.156500</td>\n",
              "      <td>0.250400</td>\n",
              "      <td>0.282200</td>\n",
              "      <td>0.317900</td>\n",
              "      <td>0.66380</td>\n",
              "    </tr>\n",
              "    <tr>\n",
              "      <th>worst fractal dimension</th>\n",
              "      <td>569.0</td>\n",
              "      <td>0.083946</td>\n",
              "      <td>0.018061</td>\n",
              "      <td>0.055040</td>\n",
              "      <td>0.071460</td>\n",
              "      <td>0.080040</td>\n",
              "      <td>0.092080</td>\n",
              "      <td>0.20750</td>\n",
              "    </tr>\n",
              "    <tr>\n",
              "      <th>benign_0__mal_1</th>\n",
              "      <td>569.0</td>\n",
              "      <td>0.627417</td>\n",
              "      <td>0.483918</td>\n",
              "      <td>0.000000</td>\n",
              "      <td>0.000000</td>\n",
              "      <td>1.000000</td>\n",
              "      <td>1.000000</td>\n",
              "      <td>1.00000</td>\n",
              "    </tr>\n",
              "  </tbody>\n",
              "</table>\n",
              "</div>"
            ],
            "text/plain": [
              "                         count        mean  ...          75%         max\n",
              "mean radius              569.0   14.127292  ...    15.780000    28.11000\n",
              "mean texture             569.0   19.289649  ...    21.800000    39.28000\n",
              "mean perimeter           569.0   91.969033  ...   104.100000   188.50000\n",
              "mean area                569.0  654.889104  ...   782.700000  2501.00000\n",
              "mean smoothness          569.0    0.096360  ...     0.105300     0.16340\n",
              "mean compactness         569.0    0.104341  ...     0.130400     0.34540\n",
              "mean concavity           569.0    0.088799  ...     0.130700     0.42680\n",
              "mean concave points      569.0    0.048919  ...     0.074000     0.20120\n",
              "mean symmetry            569.0    0.181162  ...     0.195700     0.30400\n",
              "mean fractal dimension   569.0    0.062798  ...     0.066120     0.09744\n",
              "radius error             569.0    0.405172  ...     0.478900     2.87300\n",
              "texture error            569.0    1.216853  ...     1.474000     4.88500\n",
              "perimeter error          569.0    2.866059  ...     3.357000    21.98000\n",
              "area error               569.0   40.337079  ...    45.190000   542.20000\n",
              "smoothness error         569.0    0.007041  ...     0.008146     0.03113\n",
              "compactness error        569.0    0.025478  ...     0.032450     0.13540\n",
              "concavity error          569.0    0.031894  ...     0.042050     0.39600\n",
              "concave points error     569.0    0.011796  ...     0.014710     0.05279\n",
              "symmetry error           569.0    0.020542  ...     0.023480     0.07895\n",
              "fractal dimension error  569.0    0.003795  ...     0.004558     0.02984\n",
              "worst radius             569.0   16.269190  ...    18.790000    36.04000\n",
              "worst texture            569.0   25.677223  ...    29.720000    49.54000\n",
              "worst perimeter          569.0  107.261213  ...   125.400000   251.20000\n",
              "worst area               569.0  880.583128  ...  1084.000000  4254.00000\n",
              "worst smoothness         569.0    0.132369  ...     0.146000     0.22260\n",
              "worst compactness        569.0    0.254265  ...     0.339100     1.05800\n",
              "worst concavity          569.0    0.272188  ...     0.382900     1.25200\n",
              "worst concave points     569.0    0.114606  ...     0.161400     0.29100\n",
              "worst symmetry           569.0    0.290076  ...     0.317900     0.66380\n",
              "worst fractal dimension  569.0    0.083946  ...     0.092080     0.20750\n",
              "benign_0__mal_1          569.0    0.627417  ...     1.000000     1.00000\n",
              "\n",
              "[31 rows x 8 columns]"
            ]
          },
          "metadata": {
            "tags": []
          },
          "execution_count": 6
        }
      ]
    },
    {
      "cell_type": "code",
      "metadata": {
        "colab": {
          "base_uri": "https://localhost:8080/",
          "height": 612
        },
        "id": "stXBMbZfrz-g",
        "outputId": "fa5b8c52-e04f-4d68-ff93-7c964b1ffad2"
      },
      "source": [
        "plt.figure(figsize = (12,8))\n",
        "sns.heatmap(df.corr())"
      ],
      "execution_count": 12,
      "outputs": [
        {
          "output_type": "execute_result",
          "data": {
            "text/plain": [
              "<matplotlib.axes._subplots.AxesSubplot at 0x7fa7d4022668>"
            ]
          },
          "metadata": {
            "tags": []
          },
          "execution_count": 12
        },
        {
          "output_type": "display_data",
          "data": {
            "image/png": "[encoded data removed]",
            "text/plain": [
              "<Figure size 864x576 with 2 Axes>"
            ]
          },
          "metadata": {
            "tags": [],
            "needs_background": "light"
          }
        }
      ]
    },
    {
      "cell_type": "code",
      "metadata": {
        "colab": {
          "base_uri": "https://localhost:8080/",
          "height": 297
        },
        "id": "IQZOabmNsxj4",
        "outputId": "7c58eaf8-a146-4398-d494-ecf71a8caee1"
      },
      "source": [
        "sns.countplot(x='benign_0__mal_1', data = df)"
      ],
      "execution_count": 13,
      "outputs": [
        {
          "output_type": "execute_result",
          "data": {
            "text/plain": [
              "<matplotlib.axes._subplots.AxesSubplot at 0x7fa7d3db0588>"
            ]
          },
          "metadata": {
            "tags": []
          },
          "execution_count": 13
        },
        {
          "output_type": "display_data",
          "data": {
            "image/png": "[encoded data removed]",
            "text/plain": [
              "<Figure size 432x288 with 1 Axes>"
            ]
          },
          "metadata": {
            "tags": [],
            "needs_background": "light"
          }
        }
      ]
    },
    {
      "cell_type": "code",
      "metadata": {
        "colab": {
          "base_uri": "https://localhost:8080/"
        },
        "id": "869GZOcotrH6",
        "outputId": "0c2ee084-2489-40e4-ed46-8e6a0430d191"
      },
      "source": [
        "df.corr()['benign_0__mal_1'].sort_values()"
      ],
      "execution_count": 14,
      "outputs": [
        {
          "output_type": "execute_result",
          "data": {
            "text/plain": [
              "worst concave points      -0.793566\n",
              "worst perimeter           -0.782914\n",
              "mean concave points       -0.776614\n",
              "worst radius              -0.776454\n",
              "mean perimeter            -0.742636\n",
              "worst area                -0.733825\n",
              "mean radius               -0.730029\n",
              "mean area                 -0.708984\n",
              "mean concavity            -0.696360\n",
              "worst concavity           -0.659610\n",
              "mean compactness          -0.596534\n",
              "worst compactness         -0.590998\n",
              "radius error              -0.567134\n",
              "perimeter error           -0.556141\n",
              "area error                -0.548236\n",
              "worst texture             -0.456903\n",
              "worst smoothness          -0.421465\n",
              "worst symmetry            -0.416294\n",
              "mean texture              -0.415185\n",
              "concave points error      -0.408042\n",
              "mean smoothness           -0.358560\n",
              "mean symmetry             -0.330499\n",
              "worst fractal dimension   -0.323872\n",
              "compactness error         -0.292999\n",
              "concavity error           -0.253730\n",
              "fractal dimension error   -0.077972\n",
              "symmetry error             0.006522\n",
              "texture error              0.008303\n",
              "mean fractal dimension     0.012838\n",
              "smoothness error           0.067016\n",
              "benign_0__mal_1            1.000000\n",
              "Name: benign_0__mal_1, dtype: float64"
            ]
          },
          "metadata": {
            "tags": []
          },
          "execution_count": 14
        }
      ]
    },
    {
      "cell_type": "code",
      "metadata": {
        "id": "Ip7xLa2evQNG"
      },
      "source": [
        "# A lot of negatively correlated values"
      ],
      "execution_count": 15,
      "outputs": []
    },
    {
      "cell_type": "code",
      "metadata": {
        "id": "_dk1JeG8vm5e"
      },
      "source": [
        "# Drop target value\n",
        "X = df.drop('benign_0__mal_1',axis=1).values\n",
        "y = df['benign_0__mal_1'].values"
      ],
      "execution_count": 16,
      "outputs": []
    },
    {
      "cell_type": "code",
      "metadata": {
        "id": "NPoTMAmmwC8_"
      },
      "source": [
        "from sklearn.model_selection import train_test_split"
      ],
      "execution_count": 17,
      "outputs": []
    },
    {
      "cell_type": "code",
      "metadata": {
        "id": "Kf34Bi3YwLAD"
      },
      "source": [
        "X_train, X_test, y_train, y_test = train_test_split(X,y,test_size=0.25,random_state=101)"
      ],
      "execution_count": 18,
      "outputs": []
    },
    {
      "cell_type": "code",
      "metadata": {
        "colab": {
          "base_uri": "https://localhost:8080/"
        },
        "id": "nBo9FLCAwNqC",
        "outputId": "aa451c65-e5e3-433d-da22-1482a1920a19"
      },
      "source": [
        "from sklearn.preprocessing import MinMaxScaler\n",
        "scaler = MinMaxScaler()\n",
        "scaler.fit(X_train)"
      ],
      "execution_count": 19,
      "outputs": [
        {
          "output_type": "execute_result",
          "data": {
            "text/plain": [
              "MinMaxScaler(copy=True, feature_range=(0, 1))"
            ]
          },
          "metadata": {
            "tags": []
          },
          "execution_count": 19
        }
      ]
    },
    {
      "cell_type": "code",
      "metadata": {
        "id": "uzuDi45uwW_B"
      },
      "source": [
        "X_train = scaler.transform(X_train)\n",
        "X_test = scaler.transform(X_test)"
      ],
      "execution_count": 20,
      "outputs": []
    },
    {
      "cell_type": "code",
      "metadata": {
        "id": "zyLQz9tFwaIe"
      },
      "source": [
        "import tensorflow as tf\n",
        "from tensorflow.keras.models import Sequential\n",
        "from tensorflow.keras.layers import Dense, Activation,Dropout"
      ],
      "execution_count": 21,
      "outputs": []
    },
    {
      "cell_type": "code",
      "metadata": {
        "colab": {
          "base_uri": "https://localhost:8080/"
        },
        "id": "tWZ33pMywlDE",
        "outputId": "5c771d1f-cc0c-4bfe-d149-9dd4dd5e1799"
      },
      "source": [
        "X_train.shape"
      ],
      "execution_count": 22,
      "outputs": [
        {
          "output_type": "execute_result",
          "data": {
            "text/plain": [
              "(426, 30)"
            ]
          },
          "metadata": {
            "tags": []
          },
          "execution_count": 22
        }
      ]
    },
    {
      "cell_type": "code",
      "metadata": {
        "id": "giCatO85wpqj"
      },
      "source": [
        "model = Sequential()\n",
        "\n",
        "model.add(Dense(units=30,activation='relu'))\n",
        "\n",
        "model.add(Dense(units=15,activation='relu'))\n",
        "\n",
        "\n",
        "model.add(Dense(units=1,activation='sigmoid'))\n",
        "\n",
        "model.compile(loss='binary_crossentropy', optimizer='adam')"
      ],
      "execution_count": 23,
      "outputs": []
    },
    {
      "cell_type": "code",
      "metadata": {
        "id": "ZdS95HbzxBg_"
      },
      "source": [
        "# Setting a high number of epochs to view overfitting\n",
        "from tensorflow.keras.callbacks import EarlyStopping"
      ],
      "execution_count": 25,
      "outputs": []
    },
    {
      "cell_type": "code",
      "metadata": {
        "id": "13pDp46WxlBb"
      },
      "source": [
        "early_stop = EarlyStopping(monitor='val_loss', mode='min', verbose=1, patience=25)"
      ],
      "execution_count": 26,
      "outputs": []
    },
    {
      "cell_type": "code",
      "metadata": {
        "colab": {
          "base_uri": "https://localhost:8080/"
        },
        "id": "VeJS1vLOx1vR",
        "outputId": "56ed30d6-9460-4270-d432-e17fb67997c8"
      },
      "source": [
        "model.fit(x=X_train, \n",
        "          y=y_train, \n",
        "          epochs=600,\n",
        "          validation_data=(X_test, y_test), verbose=1,\n",
        "          callbacks=[early_stop]\n",
        "          )"
      ],
      "execution_count": 27,
      "outputs": [
        {
          "output_type": "stream",
          "text": [
            "Epoch 1/600\n",
            "14/14 [==============================] - 0s 13ms/step - loss: 0.6888 - val_loss: 0.6665\n",
            "Epoch 2/600\n",
            "14/14 [==============================] - 0s 3ms/step - loss: 0.6626 - val_loss: 0.6445\n",
            "Epoch 3/600\n",
            "14/14 [==============================] - 0s 2ms/step - loss: 0.6370 - val_loss: 0.6142\n",
            "Epoch 4/600\n",
            "14/14 [==============================] - 0s 3ms/step - loss: 0.6035 - val_loss: 0.5803\n",
            "Epoch 5/600\n",
            "14/14 [==============================] - 0s 3ms/step - loss: 0.5662 - val_loss: 0.5363\n",
            "Epoch 6/600\n",
            "14/14 [==============================] - 0s 3ms/step - loss: 0.5202 - val_loss: 0.4864\n",
            "Epoch 7/600\n",
            "14/14 [==============================] - 0s 3ms/step - loss: 0.4711 - val_loss: 0.4391\n",
            "Epoch 8/600\n",
            "14/14 [==============================] - 0s 3ms/step - loss: 0.4239 - val_loss: 0.3909\n",
            "Epoch 9/600\n",
            "14/14 [==============================] - 0s 3ms/step - loss: 0.3807 - val_loss: 0.3468\n",
            "Epoch 10/600\n",
            "14/14 [==============================] - 0s 3ms/step - loss: 0.3391 - val_loss: 0.3056\n",
            "Epoch 11/600\n",
            "14/14 [==============================] - 0s 3ms/step - loss: 0.3008 - val_loss: 0.2701\n",
            "Epoch 12/600\n",
            "14/14 [==============================] - 0s 3ms/step - loss: 0.2706 - val_loss: 0.2433\n",
            "Epoch 13/600\n",
            "14/14 [==============================] - 0s 3ms/step - loss: 0.2447 - val_loss: 0.2179\n",
            "Epoch 14/600\n",
            "14/14 [==============================] - 0s 3ms/step - loss: 0.2239 - val_loss: 0.2046\n",
            "Epoch 15/600\n",
            "14/14 [==============================] - 0s 3ms/step - loss: 0.2087 - val_loss: 0.1848\n",
            "Epoch 16/600\n",
            "14/14 [==============================] - 0s 2ms/step - loss: 0.1958 - val_loss: 0.1748\n",
            "Epoch 17/600\n",
            "14/14 [==============================] - 0s 3ms/step - loss: 0.1829 - val_loss: 0.1638\n",
            "Epoch 18/600\n",
            "14/14 [==============================] - 0s 3ms/step - loss: 0.1745 - val_loss: 0.1593\n",
            "Epoch 19/600\n",
            "14/14 [==============================] - 0s 3ms/step - loss: 0.1657 - val_loss: 0.1488\n",
            "Epoch 20/600\n",
            "14/14 [==============================] - 0s 3ms/step - loss: 0.1521 - val_loss: 0.1461\n",
            "Epoch 21/600\n",
            "14/14 [==============================] - 0s 3ms/step - loss: 0.1449 - val_loss: 0.1439\n",
            "Epoch 22/600\n",
            "14/14 [==============================] - 0s 3ms/step - loss: 0.1385 - val_loss: 0.1338\n",
            "Epoch 23/600\n",
            "14/14 [==============================] - 0s 3ms/step - loss: 0.1314 - val_loss: 0.1291\n",
            "Epoch 24/600\n",
            "14/14 [==============================] - 0s 3ms/step - loss: 0.1245 - val_loss: 0.1323\n",
            "Epoch 25/600\n",
            "14/14 [==============================] - 0s 3ms/step - loss: 0.1223 - val_loss: 0.1240\n",
            "Epoch 26/600\n",
            "14/14 [==============================] - 0s 3ms/step - loss: 0.1172 - val_loss: 0.1221\n",
            "Epoch 27/600\n",
            "14/14 [==============================] - 0s 3ms/step - loss: 0.1120 - val_loss: 0.1187\n",
            "Epoch 28/600\n",
            "14/14 [==============================] - 0s 3ms/step - loss: 0.1075 - val_loss: 0.1178\n",
            "Epoch 29/600\n",
            "14/14 [==============================] - 0s 3ms/step - loss: 0.1033 - val_loss: 0.1177\n",
            "Epoch 30/600\n",
            "14/14 [==============================] - 0s 3ms/step - loss: 0.0998 - val_loss: 0.1167\n",
            "Epoch 31/600\n",
            "14/14 [==============================] - 0s 4ms/step - loss: 0.0958 - val_loss: 0.1131\n",
            "Epoch 32/600\n",
            "14/14 [==============================] - 0s 3ms/step - loss: 0.0928 - val_loss: 0.1121\n",
            "Epoch 33/600\n",
            "14/14 [==============================] - 0s 3ms/step - loss: 0.0903 - val_loss: 0.1099\n",
            "Epoch 34/600\n",
            "14/14 [==============================] - 0s 3ms/step - loss: 0.0912 - val_loss: 0.1116\n",
            "Epoch 35/600\n",
            "14/14 [==============================] - 0s 3ms/step - loss: 0.0856 - val_loss: 0.1118\n",
            "Epoch 36/600\n",
            "14/14 [==============================] - 0s 3ms/step - loss: 0.0824 - val_loss: 0.1068\n",
            "Epoch 37/600\n",
            "14/14 [==============================] - 0s 3ms/step - loss: 0.0807 - val_loss: 0.1097\n",
            "Epoch 38/600\n",
            "14/14 [==============================] - 0s 4ms/step - loss: 0.0806 - val_loss: 0.1060\n",
            "Epoch 39/600\n",
            "14/14 [==============================] - 0s 2ms/step - loss: 0.0774 - val_loss: 0.1069\n",
            "Epoch 40/600\n",
            "14/14 [==============================] - 0s 3ms/step - loss: 0.0757 - val_loss: 0.1086\n",
            "Epoch 41/600\n",
            "14/14 [==============================] - 0s 3ms/step - loss: 0.0736 - val_loss: 0.1046\n",
            "Epoch 42/600\n",
            "14/14 [==============================] - 0s 3ms/step - loss: 0.0748 - val_loss: 0.1136\n",
            "Epoch 43/600\n",
            "14/14 [==============================] - 0s 3ms/step - loss: 0.0729 - val_loss: 0.1055\n",
            "Epoch 44/600\n",
            "14/14 [==============================] - 0s 3ms/step - loss: 0.0718 - val_loss: 0.1055\n",
            "Epoch 45/600\n",
            "14/14 [==============================] - 0s 3ms/step - loss: 0.0705 - val_loss: 0.1095\n",
            "Epoch 46/600\n",
            "14/14 [==============================] - 0s 3ms/step - loss: 0.0700 - val_loss: 0.1040\n",
            "Epoch 47/600\n",
            "14/14 [==============================] - 0s 3ms/step - loss: 0.0711 - val_loss: 0.1062\n",
            "Epoch 48/600\n",
            "14/14 [==============================] - 0s 3ms/step - loss: 0.0677 - val_loss: 0.1029\n",
            "Epoch 49/600\n",
            "14/14 [==============================] - 0s 3ms/step - loss: 0.0673 - val_loss: 0.1133\n",
            "Epoch 50/600\n",
            "14/14 [==============================] - 0s 3ms/step - loss: 0.0653 - val_loss: 0.1043\n",
            "Epoch 51/600\n",
            "14/14 [==============================] - 0s 3ms/step - loss: 0.0644 - val_loss: 0.1088\n",
            "Epoch 52/600\n",
            "14/14 [==============================] - 0s 2ms/step - loss: 0.0659 - val_loss: 0.1103\n",
            "Epoch 53/600\n",
            "14/14 [==============================] - 0s 2ms/step - loss: 0.0689 - val_loss: 0.1033\n",
            "Epoch 54/600\n",
            "14/14 [==============================] - 0s 3ms/step - loss: 0.0635 - val_loss: 0.1139\n",
            "Epoch 55/600\n",
            "14/14 [==============================] - 0s 3ms/step - loss: 0.0618 - val_loss: 0.1053\n",
            "Epoch 56/600\n",
            "14/14 [==============================] - 0s 2ms/step - loss: 0.0614 - val_loss: 0.1085\n",
            "Epoch 57/600\n",
            "14/14 [==============================] - 0s 3ms/step - loss: 0.0610 - val_loss: 0.1090\n",
            "Epoch 58/600\n",
            "14/14 [==============================] - 0s 3ms/step - loss: 0.0615 - val_loss: 0.1088\n",
            "Epoch 59/600\n",
            "14/14 [==============================] - 0s 3ms/step - loss: 0.0597 - val_loss: 0.1087\n",
            "Epoch 60/600\n",
            "14/14 [==============================] - 0s 3ms/step - loss: 0.0601 - val_loss: 0.1061\n",
            "Epoch 61/600\n",
            "14/14 [==============================] - 0s 3ms/step - loss: 0.0598 - val_loss: 0.1103\n",
            "Epoch 62/600\n",
            "14/14 [==============================] - 0s 3ms/step - loss: 0.0604 - val_loss: 0.1115\n",
            "Epoch 63/600\n",
            "14/14 [==============================] - 0s 3ms/step - loss: 0.0640 - val_loss: 0.1099\n",
            "Epoch 64/600\n",
            "14/14 [==============================] - 0s 3ms/step - loss: 0.0586 - val_loss: 0.1083\n",
            "Epoch 65/600\n",
            "14/14 [==============================] - 0s 3ms/step - loss: 0.0629 - val_loss: 0.1046\n",
            "Epoch 66/600\n",
            "14/14 [==============================] - 0s 3ms/step - loss: 0.0578 - val_loss: 0.1084\n",
            "Epoch 67/600\n",
            "14/14 [==============================] - 0s 3ms/step - loss: 0.0569 - val_loss: 0.1160\n",
            "Epoch 68/600\n",
            "14/14 [==============================] - 0s 3ms/step - loss: 0.0573 - val_loss: 0.1077\n",
            "Epoch 69/600\n",
            "14/14 [==============================] - 0s 3ms/step - loss: 0.0608 - val_loss: 0.1157\n",
            "Epoch 70/600\n",
            "14/14 [==============================] - 0s 3ms/step - loss: 0.0615 - val_loss: 0.1127\n",
            "Epoch 71/600\n",
            "14/14 [==============================] - 0s 2ms/step - loss: 0.0588 - val_loss: 0.1124\n",
            "Epoch 72/600\n",
            "14/14 [==============================] - 0s 3ms/step - loss: 0.0564 - val_loss: 0.1105\n",
            "Epoch 73/600\n",
            "14/14 [==============================] - 0s 3ms/step - loss: 0.0571 - val_loss: 0.1133\n",
            "Epoch 00073: early stopping\n"
          ],
          "name": "stdout"
        },
        {
          "output_type": "execute_result",
          "data": {
            "text/plain": [
              "<tensorflow.python.keras.callbacks.History at 0x7fa79c679748>"
            ]
          },
          "metadata": {
            "tags": []
          },
          "execution_count": 27
        }
      ]
    },
    {
      "cell_type": "code",
      "metadata": {
        "colab": {
          "base_uri": "https://localhost:8080/",
          "height": 282
        },
        "id": "0BjdzHV7x4il",
        "outputId": "d0586bbd-ef58-4c82-96c6-7caf3fa96f35"
      },
      "source": [
        "model_loss = pd.DataFrame(model.history.history)\n",
        "model_loss.plot()"
      ],
      "execution_count": 28,
      "outputs": [
        {
          "output_type": "execute_result",
          "data": {
            "text/plain": [
              "<matplotlib.axes._subplots.AxesSubplot at 0x7fa799fe8320>"
            ]
          },
          "metadata": {
            "tags": []
          },
          "execution_count": 28
        },
        {
          "output_type": "display_data",
          "data": {
            "image/png": "[encoded data removed]",
            "text/plain": [
              "<Figure size 432x288 with 1 Axes>"
            ]
          },
          "metadata": {
            "tags": [],
            "needs_background": "light"
          }
        }
      ]
    },
    {
      "cell_type": "code",
      "metadata": {
        "id": "SpxbsrTgyFnL"
      },
      "source": [
        "# Add in dropout layers\n",
        "from tensorflow.keras.layers import Dropout"
      ],
      "execution_count": 29,
      "outputs": []
    },
    {
      "cell_type": "code",
      "metadata": {
        "id": "mP3gMlGRyKu1"
      },
      "source": [
        "model = Sequential()\n",
        "model.add(Dense(units=30,activation='relu'))\n",
        "model.add(Dropout(0.5))\n",
        "\n",
        "model.add(Dense(units=15,activation='relu'))\n",
        "model.add(Dropout(0.5))\n",
        "\n",
        "model.add(Dense(units=1,activation='sigmoid'))\n",
        "model.compile(loss='binary_crossentropy', optimizer='adam')"
      ],
      "execution_count": 30,
      "outputs": []
    },
    {
      "cell_type": "code",
      "metadata": {
        "colab": {
          "base_uri": "https://localhost:8080/"
        },
        "id": "soyHUzDSyNT6",
        "outputId": "f83e35c9-2ba3-4b6e-d855-855a44276126"
      },
      "source": [
        "model.fit(x=X_train, \n",
        "          y=y_train, \n",
        "          epochs=600,\n",
        "          validation_data=(X_test, y_test), verbose=1,\n",
        "          callbacks=[early_stop]\n",
        "          )"
      ],
      "execution_count": 31,
      "outputs": [
        {
          "output_type": "stream",
          "text": [
            "Epoch 1/600\n",
            "14/14 [==============================] - 0s 11ms/step - loss: 0.7019 - val_loss: 0.6697\n",
            "Epoch 2/600\n",
            "14/14 [==============================] - 0s 3ms/step - loss: 0.6757 - val_loss: 0.6512\n",
            "Epoch 3/600\n",
            "14/14 [==============================] - 0s 3ms/step - loss: 0.6677 - val_loss: 0.6371\n",
            "Epoch 4/600\n",
            "14/14 [==============================] - 0s 3ms/step - loss: 0.6486 - val_loss: 0.6178\n",
            "Epoch 5/600\n",
            "14/14 [==============================] - 0s 2ms/step - loss: 0.6251 - val_loss: 0.5907\n",
            "Epoch 6/600\n",
            "14/14 [==============================] - 0s 3ms/step - loss: 0.5922 - val_loss: 0.5501\n",
            "Epoch 7/600\n",
            "14/14 [==============================] - 0s 2ms/step - loss: 0.5643 - val_loss: 0.5159\n",
            "Epoch 8/600\n",
            "14/14 [==============================] - 0s 3ms/step - loss: 0.5472 - val_loss: 0.4841\n",
            "Epoch 9/600\n",
            "14/14 [==============================] - 0s 3ms/step - loss: 0.5254 - val_loss: 0.4563\n",
            "Epoch 10/600\n",
            "14/14 [==============================] - 0s 3ms/step - loss: 0.4955 - val_loss: 0.4278\n",
            "Epoch 11/600\n",
            "14/14 [==============================] - 0s 3ms/step - loss: 0.4839 - val_loss: 0.3976\n",
            "Epoch 12/600\n",
            "14/14 [==============================] - 0s 4ms/step - loss: 0.4437 - val_loss: 0.3666\n",
            "Epoch 13/600\n",
            "14/14 [==============================] - 0s 3ms/step - loss: 0.4496 - val_loss: 0.3407\n",
            "Epoch 14/600\n",
            "14/14 [==============================] - 0s 3ms/step - loss: 0.4198 - val_loss: 0.3293\n",
            "Epoch 15/600\n",
            "14/14 [==============================] - 0s 3ms/step - loss: 0.3992 - val_loss: 0.2996\n",
            "Epoch 16/600\n",
            "14/14 [==============================] - 0s 3ms/step - loss: 0.3933 - val_loss: 0.2875\n",
            "Epoch 17/600\n",
            "14/14 [==============================] - 0s 3ms/step - loss: 0.3797 - val_loss: 0.2702\n",
            "Epoch 18/600\n",
            "14/14 [==============================] - 0s 3ms/step - loss: 0.3441 - val_loss: 0.2688\n",
            "Epoch 19/600\n",
            "14/14 [==============================] - 0s 3ms/step - loss: 0.3542 - val_loss: 0.2485\n",
            "Epoch 20/600\n",
            "14/14 [==============================] - 0s 2ms/step - loss: 0.3384 - val_loss: 0.2418\n",
            "Epoch 21/600\n",
            "14/14 [==============================] - 0s 3ms/step - loss: 0.3052 - val_loss: 0.2214\n",
            "Epoch 22/600\n",
            "14/14 [==============================] - 0s 4ms/step - loss: 0.3312 - val_loss: 0.2098\n",
            "Epoch 23/600\n",
            "14/14 [==============================] - 0s 3ms/step - loss: 0.2947 - val_loss: 0.1992\n",
            "Epoch 24/600\n",
            "14/14 [==============================] - 0s 3ms/step - loss: 0.3136 - val_loss: 0.2004\n",
            "Epoch 25/600\n",
            "14/14 [==============================] - 0s 3ms/step - loss: 0.3075 - val_loss: 0.1908\n",
            "Epoch 26/600\n",
            "14/14 [==============================] - 0s 2ms/step - loss: 0.2895 - val_loss: 0.1875\n",
            "Epoch 27/600\n",
            "14/14 [==============================] - 0s 3ms/step - loss: 0.2955 - val_loss: 0.1841\n",
            "Epoch 28/600\n",
            "14/14 [==============================] - 0s 3ms/step - loss: 0.2621 - val_loss: 0.1711\n",
            "Epoch 29/600\n",
            "14/14 [==============================] - 0s 3ms/step - loss: 0.2719 - val_loss: 0.1593\n",
            "Epoch 30/600\n",
            "14/14 [==============================] - 0s 2ms/step - loss: 0.2506 - val_loss: 0.1543\n",
            "Epoch 31/600\n",
            "14/14 [==============================] - 0s 2ms/step - loss: 0.2465 - val_loss: 0.1535\n",
            "Epoch 32/600\n",
            "14/14 [==============================] - 0s 3ms/step - loss: 0.2552 - val_loss: 0.1416\n",
            "Epoch 33/600\n",
            "14/14 [==============================] - 0s 3ms/step - loss: 0.2651 - val_loss: 0.1502\n",
            "Epoch 34/600\n",
            "14/14 [==============================] - 0s 3ms/step - loss: 0.2291 - val_loss: 0.1393\n",
            "Epoch 35/600\n",
            "14/14 [==============================] - 0s 3ms/step - loss: 0.2113 - val_loss: 0.1351\n",
            "Epoch 36/600\n",
            "14/14 [==============================] - 0s 3ms/step - loss: 0.2221 - val_loss: 0.1371\n",
            "Epoch 37/600\n",
            "14/14 [==============================] - 0s 3ms/step - loss: 0.2214 - val_loss: 0.1245\n",
            "Epoch 38/600\n",
            "14/14 [==============================] - 0s 3ms/step - loss: 0.2293 - val_loss: 0.1348\n",
            "Epoch 39/600\n",
            "14/14 [==============================] - 0s 3ms/step - loss: 0.2206 - val_loss: 0.1308\n",
            "Epoch 40/600\n",
            "14/14 [==============================] - 0s 3ms/step - loss: 0.2084 - val_loss: 0.1224\n",
            "Epoch 41/600\n",
            "14/14 [==============================] - 0s 3ms/step - loss: 0.2025 - val_loss: 0.1233\n",
            "Epoch 42/600\n",
            "14/14 [==============================] - 0s 3ms/step - loss: 0.2024 - val_loss: 0.1258\n",
            "Epoch 43/600\n",
            "14/14 [==============================] - 0s 3ms/step - loss: 0.1928 - val_loss: 0.1173\n",
            "Epoch 44/600\n",
            "14/14 [==============================] - 0s 3ms/step - loss: 0.1866 - val_loss: 0.1129\n",
            "Epoch 45/600\n",
            "14/14 [==============================] - 0s 3ms/step - loss: 0.1916 - val_loss: 0.1132\n",
            "Epoch 46/600\n",
            "14/14 [==============================] - 0s 3ms/step - loss: 0.1841 - val_loss: 0.1106\n",
            "Epoch 47/600\n",
            "14/14 [==============================] - 0s 3ms/step - loss: 0.1896 - val_loss: 0.1179\n",
            "Epoch 48/600\n",
            "14/14 [==============================] - 0s 3ms/step - loss: 0.1664 - val_loss: 0.1171\n",
            "Epoch 49/600\n",
            "14/14 [==============================] - 0s 3ms/step - loss: 0.1755 - val_loss: 0.1039\n",
            "Epoch 50/600\n",
            "14/14 [==============================] - 0s 3ms/step - loss: 0.1735 - val_loss: 0.1030\n",
            "Epoch 51/600\n",
            "14/14 [==============================] - 0s 3ms/step - loss: 0.1550 - val_loss: 0.1114\n",
            "Epoch 52/600\n",
            "14/14 [==============================] - 0s 4ms/step - loss: 0.1937 - val_loss: 0.0976\n",
            "Epoch 53/600\n",
            "14/14 [==============================] - 0s 3ms/step - loss: 0.1534 - val_loss: 0.1012\n",
            "Epoch 54/600\n",
            "14/14 [==============================] - 0s 3ms/step - loss: 0.1569 - val_loss: 0.1006\n",
            "Epoch 55/600\n",
            "14/14 [==============================] - 0s 3ms/step - loss: 0.1406 - val_loss: 0.1004\n",
            "Epoch 56/600\n",
            "14/14 [==============================] - 0s 3ms/step - loss: 0.1603 - val_loss: 0.0988\n",
            "Epoch 57/600\n",
            "14/14 [==============================] - 0s 3ms/step - loss: 0.1484 - val_loss: 0.1048\n",
            "Epoch 58/600\n",
            "14/14 [==============================] - 0s 3ms/step - loss: 0.1625 - val_loss: 0.0970\n",
            "Epoch 59/600\n",
            "14/14 [==============================] - 0s 3ms/step - loss: 0.1384 - val_loss: 0.0893\n",
            "Epoch 60/600\n",
            "14/14 [==============================] - 0s 3ms/step - loss: 0.1538 - val_loss: 0.0902\n",
            "Epoch 61/600\n",
            "14/14 [==============================] - 0s 3ms/step - loss: 0.1513 - val_loss: 0.0878\n",
            "Epoch 62/600\n",
            "14/14 [==============================] - 0s 3ms/step - loss: 0.1564 - val_loss: 0.0877\n",
            "Epoch 63/600\n",
            "14/14 [==============================] - 0s 3ms/step - loss: 0.1449 - val_loss: 0.0830\n",
            "Epoch 64/600\n",
            "14/14 [==============================] - 0s 3ms/step - loss: 0.1487 - val_loss: 0.0858\n",
            "Epoch 65/600\n",
            "14/14 [==============================] - 0s 3ms/step - loss: 0.1411 - val_loss: 0.0920\n",
            "Epoch 66/600\n",
            "14/14 [==============================] - 0s 3ms/step - loss: 0.1506 - val_loss: 0.0875\n",
            "Epoch 67/600\n",
            "14/14 [==============================] - 0s 4ms/step - loss: 0.1324 - val_loss: 0.0806\n",
            "Epoch 68/600\n",
            "14/14 [==============================] - 0s 4ms/step - loss: 0.1322 - val_loss: 0.1026\n",
            "Epoch 69/600\n",
            "14/14 [==============================] - 0s 3ms/step - loss: 0.1279 - val_loss: 0.0829\n",
            "Epoch 70/600\n",
            "14/14 [==============================] - 0s 3ms/step - loss: 0.1426 - val_loss: 0.0834\n",
            "Epoch 71/600\n",
            "14/14 [==============================] - 0s 3ms/step - loss: 0.1347 - val_loss: 0.0991\n",
            "Epoch 72/600\n",
            "14/14 [==============================] - 0s 3ms/step - loss: 0.1368 - val_loss: 0.0845\n",
            "Epoch 73/600\n",
            "14/14 [==============================] - 0s 3ms/step - loss: 0.1275 - val_loss: 0.0800\n",
            "Epoch 74/600\n",
            "14/14 [==============================] - 0s 3ms/step - loss: 0.1260 - val_loss: 0.0889\n",
            "Epoch 75/600\n",
            "14/14 [==============================] - 0s 4ms/step - loss: 0.1145 - val_loss: 0.0870\n",
            "Epoch 76/600\n",
            "14/14 [==============================] - 0s 3ms/step - loss: 0.1227 - val_loss: 0.0846\n",
            "Epoch 77/600\n",
            "14/14 [==============================] - 0s 3ms/step - loss: 0.1274 - val_loss: 0.0887\n",
            "Epoch 78/600\n",
            "14/14 [==============================] - 0s 3ms/step - loss: 0.1044 - val_loss: 0.0817\n",
            "Epoch 79/600\n",
            "14/14 [==============================] - 0s 3ms/step - loss: 0.1317 - val_loss: 0.0838\n",
            "Epoch 80/600\n",
            "14/14 [==============================] - 0s 3ms/step - loss: 0.1273 - val_loss: 0.0878\n",
            "Epoch 81/600\n",
            "14/14 [==============================] - 0s 4ms/step - loss: 0.1137 - val_loss: 0.0861\n",
            "Epoch 82/600\n",
            "14/14 [==============================] - 0s 3ms/step - loss: 0.1051 - val_loss: 0.0852\n",
            "Epoch 83/600\n",
            "14/14 [==============================] - 0s 4ms/step - loss: 0.1289 - val_loss: 0.0766\n",
            "Epoch 84/600\n",
            "14/14 [==============================] - 0s 3ms/step - loss: 0.1129 - val_loss: 0.0775\n",
            "Epoch 85/600\n",
            "14/14 [==============================] - 0s 3ms/step - loss: 0.1026 - val_loss: 0.0819\n",
            "Epoch 86/600\n",
            "14/14 [==============================] - 0s 3ms/step - loss: 0.1279 - val_loss: 0.0922\n",
            "Epoch 87/600\n",
            "14/14 [==============================] - 0s 3ms/step - loss: 0.1058 - val_loss: 0.0749\n",
            "Epoch 88/600\n",
            "14/14 [==============================] - 0s 3ms/step - loss: 0.1248 - val_loss: 0.0950\n",
            "Epoch 89/600\n",
            "14/14 [==============================] - 0s 3ms/step - loss: 0.0878 - val_loss: 0.0861\n",
            "Epoch 90/600\n",
            "14/14 [==============================] - 0s 3ms/step - loss: 0.1125 - val_loss: 0.0783\n",
            "Epoch 91/600\n",
            "14/14 [==============================] - 0s 3ms/step - loss: 0.1092 - val_loss: 0.0823\n",
            "Epoch 92/600\n",
            "14/14 [==============================] - 0s 3ms/step - loss: 0.1133 - val_loss: 0.0895\n",
            "Epoch 93/600\n",
            "14/14 [==============================] - 0s 3ms/step - loss: 0.1001 - val_loss: 0.0751\n",
            "Epoch 94/600\n",
            "14/14 [==============================] - 0s 4ms/step - loss: 0.1005 - val_loss: 0.0827\n",
            "Epoch 95/600\n",
            "14/14 [==============================] - 0s 4ms/step - loss: 0.1242 - val_loss: 0.0788\n",
            "Epoch 96/600\n",
            "14/14 [==============================] - 0s 3ms/step - loss: 0.1097 - val_loss: 0.0755\n",
            "Epoch 97/600\n",
            "14/14 [==============================] - 0s 3ms/step - loss: 0.0873 - val_loss: 0.0862\n",
            "Epoch 98/600\n",
            "14/14 [==============================] - 0s 3ms/step - loss: 0.0940 - val_loss: 0.0738\n",
            "Epoch 99/600\n",
            "14/14 [==============================] - 0s 3ms/step - loss: 0.0857 - val_loss: 0.0779\n",
            "Epoch 100/600\n",
            "14/14 [==============================] - 0s 3ms/step - loss: 0.0906 - val_loss: 0.0805\n",
            "Epoch 101/600\n",
            "14/14 [==============================] - 0s 3ms/step - loss: 0.0886 - val_loss: 0.0795\n",
            "Epoch 102/600\n",
            "14/14 [==============================] - 0s 3ms/step - loss: 0.1016 - val_loss: 0.0779\n",
            "Epoch 103/600\n",
            "14/14 [==============================] - 0s 3ms/step - loss: 0.0865 - val_loss: 0.0774\n",
            "Epoch 104/600\n",
            "14/14 [==============================] - 0s 3ms/step - loss: 0.1011 - val_loss: 0.0786\n",
            "Epoch 105/600\n",
            "14/14 [==============================] - 0s 3ms/step - loss: 0.1155 - val_loss: 0.0794\n",
            "Epoch 106/600\n",
            "14/14 [==============================] - 0s 4ms/step - loss: 0.0983 - val_loss: 0.0817\n",
            "Epoch 107/600\n",
            "14/14 [==============================] - 0s 4ms/step - loss: 0.0903 - val_loss: 0.0825\n",
            "Epoch 108/600\n",
            "14/14 [==============================] - 0s 3ms/step - loss: 0.1092 - val_loss: 0.0842\n",
            "Epoch 109/600\n",
            "14/14 [==============================] - 0s 3ms/step - loss: 0.1168 - val_loss: 0.0801\n",
            "Epoch 110/600\n",
            "14/14 [==============================] - 0s 3ms/step - loss: 0.1022 - val_loss: 0.0884\n",
            "Epoch 111/600\n",
            "14/14 [==============================] - 0s 3ms/step - loss: 0.0856 - val_loss: 0.0858\n",
            "Epoch 112/600\n",
            "14/14 [==============================] - 0s 3ms/step - loss: 0.0828 - val_loss: 0.0956\n",
            "Epoch 113/600\n",
            "14/14 [==============================] - 0s 4ms/step - loss: 0.0960 - val_loss: 0.0875\n",
            "Epoch 114/600\n",
            "14/14 [==============================] - 0s 3ms/step - loss: 0.0828 - val_loss: 0.0730\n",
            "Epoch 115/600\n",
            "14/14 [==============================] - 0s 3ms/step - loss: 0.0836 - val_loss: 0.0937\n",
            "Epoch 116/600\n",
            "14/14 [==============================] - 0s 4ms/step - loss: 0.1096 - val_loss: 0.0864\n",
            "Epoch 117/600\n",
            "14/14 [==============================] - 0s 3ms/step - loss: 0.0892 - val_loss: 0.0756\n",
            "Epoch 118/600\n",
            "14/14 [==============================] - 0s 3ms/step - loss: 0.1087 - val_loss: 0.0817\n",
            "Epoch 119/600\n",
            "14/14 [==============================] - 0s 3ms/step - loss: 0.1040 - val_loss: 0.0755\n",
            "Epoch 120/600\n",
            "14/14 [==============================] - 0s 4ms/step - loss: 0.1065 - val_loss: 0.0814\n",
            "Epoch 121/600\n",
            "14/14 [==============================] - 0s 3ms/step - loss: 0.0853 - val_loss: 0.0765\n",
            "Epoch 122/600\n",
            "14/14 [==============================] - 0s 3ms/step - loss: 0.0913 - val_loss: 0.0795\n",
            "Epoch 123/600\n",
            "14/14 [==============================] - 0s 3ms/step - loss: 0.0946 - val_loss: 0.0893\n",
            "Epoch 124/600\n",
            "14/14 [==============================] - 0s 3ms/step - loss: 0.0991 - val_loss: 0.0796\n",
            "Epoch 125/600\n",
            "14/14 [==============================] - 0s 3ms/step - loss: 0.0946 - val_loss: 0.0864\n",
            "Epoch 126/600\n",
            "14/14 [==============================] - 0s 3ms/step - loss: 0.0818 - val_loss: 0.0856\n",
            "Epoch 127/600\n",
            "14/14 [==============================] - 0s 3ms/step - loss: 0.0802 - val_loss: 0.0848\n",
            "Epoch 128/600\n",
            "14/14 [==============================] - 0s 3ms/step - loss: 0.0922 - val_loss: 0.0935\n",
            "Epoch 129/600\n",
            "14/14 [==============================] - 0s 3ms/step - loss: 0.0932 - val_loss: 0.0834\n",
            "Epoch 130/600\n",
            "14/14 [==============================] - 0s 3ms/step - loss: 0.0944 - val_loss: 0.0877\n",
            "Epoch 131/600\n",
            "14/14 [==============================] - 0s 3ms/step - loss: 0.0881 - val_loss: 0.0866\n",
            "Epoch 132/600\n",
            "14/14 [==============================] - 0s 3ms/step - loss: 0.0869 - val_loss: 0.0785\n",
            "Epoch 133/600\n",
            "14/14 [==============================] - 0s 3ms/step - loss: 0.0877 - val_loss: 0.0975\n",
            "Epoch 134/600\n",
            "14/14 [==============================] - 0s 3ms/step - loss: 0.0753 - val_loss: 0.0815\n",
            "Epoch 135/600\n",
            "14/14 [==============================] - 0s 3ms/step - loss: 0.0822 - val_loss: 0.0858\n",
            "Epoch 136/600\n",
            "14/14 [==============================] - 0s 3ms/step - loss: 0.0936 - val_loss: 0.0850\n",
            "Epoch 137/600\n",
            "14/14 [==============================] - 0s 3ms/step - loss: 0.0908 - val_loss: 0.0863\n",
            "Epoch 138/600\n",
            "14/14 [==============================] - 0s 3ms/step - loss: 0.0817 - val_loss: 0.0819\n",
            "Epoch 139/600\n",
            "14/14 [==============================] - 0s 3ms/step - loss: 0.0814 - val_loss: 0.0876\n",
            "Epoch 00139: early stopping\n"
          ],
          "name": "stdout"
        },
        {
          "output_type": "execute_result",
          "data": {
            "text/plain": [
              "<tensorflow.python.keras.callbacks.History at 0x7fa7a38580b8>"
            ]
          },
          "metadata": {
            "tags": []
          },
          "execution_count": 31
        }
      ]
    },
    {
      "cell_type": "code",
      "metadata": {
        "colab": {
          "base_uri": "https://localhost:8080/",
          "height": 282
        },
        "id": "b1o0V2AgySsH",
        "outputId": "619148da-2576-43d3-f797-c1eb09f50320"
      },
      "source": [
        "model_loss = pd.DataFrame(model.history.history)\n",
        "model_loss.plot()"
      ],
      "execution_count": 32,
      "outputs": [
        {
          "output_type": "execute_result",
          "data": {
            "text/plain": [
              "<matplotlib.axes._subplots.AxesSubplot at 0x7fa798dcfbe0>"
            ]
          },
          "metadata": {
            "tags": []
          },
          "execution_count": 32
        },
        {
          "output_type": "display_data",
          "data": {
            "image/png": "[encoded data removed]",
            "text/plain": [
              "<Figure size 432x288 with 1 Axes>"
            ]
          },
          "metadata": {
            "tags": [],
            "needs_background": "light"
          }
        }
      ]
    },
    {
      "cell_type": "code",
      "metadata": {
        "colab": {
          "base_uri": "https://localhost:8080/"
        },
        "id": "MyrWXV_oyXOh",
        "outputId": "8b431a42-605e-426e-a4f4-6753bae90946"
      },
      "source": [
        "predictions = model.predict_classes(X_test)"
      ],
      "execution_count": 33,
      "outputs": [
        {
          "output_type": "stream",
          "text": [
            "WARNING:tensorflow:From <ipython-input-33-bc83193b8b59>:1: Sequential.predict_classes (from tensorflow.python.keras.engine.sequential) is deprecated and will be removed after 2021-01-01.\n",
            "Instructions for updating:\n",
            "Please use instead:* `np.argmax(model.predict(x), axis=-1)`,   if your model does multi-class classification   (e.g. if it uses a `softmax` last-layer activation).* `(model.predict(x) > 0.5).astype(\"int32\")`,   if your model does binary classification   (e.g. if it uses a `sigmoid` last-layer activation).\n"
          ],
          "name": "stdout"
        }
      ]
    },
    {
      "cell_type": "code",
      "metadata": {
        "id": "vaRyKTvcyaP4"
      },
      "source": [
        "from sklearn.metrics import classification_report,confusion_matrix"
      ],
      "execution_count": 34,
      "outputs": []
    },
    {
      "cell_type": "code",
      "metadata": {
        "colab": {
          "base_uri": "https://localhost:8080/"
        },
        "id": "zh6rduIjydBQ",
        "outputId": "867bd001-38cc-4765-ad17-1545b17c31b3"
      },
      "source": [
        "print(classification_report(y_test,predictions))"
      ],
      "execution_count": 35,
      "outputs": [
        {
          "output_type": "stream",
          "text": [
            "              precision    recall  f1-score   support\n",
            "\n",
            "           0       0.96      0.98      0.97        55\n",
            "           1       0.99      0.98      0.98        88\n",
            "\n",
            "    accuracy                           0.98       143\n",
            "   macro avg       0.98      0.98      0.98       143\n",
            "weighted avg       0.98      0.98      0.98       143\n",
            "\n"
          ],
          "name": "stdout"
        }
      ]
    },
    {
      "cell_type": "code",
      "metadata": {
        "colab": {
          "base_uri": "https://localhost:8080/"
        },
        "id": "87t_Sk46yfse",
        "outputId": "cdebe656-4c03-4a77-9353-e58e65387ed1"
      },
      "source": [
        "print(confusion_matrix(y_test,predictions))"
      ],
      "execution_count": 36,
      "outputs": [
        {
          "output_type": "stream",
          "text": [
            "[[54  1]\n",
            " [ 2 86]]\n"
          ],
          "name": "stdout"
        }
      ]
    },
    {
      "cell_type": "code",
      "metadata": {
        "id": "37roVK5fyiGH"
      },
      "source": [
        ""
      ],
      "execution_count": null,
      "outputs": []
    }
  ]
}